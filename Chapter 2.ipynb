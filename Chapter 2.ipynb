{
 "cells": [
  {
   "cell_type": "code",
   "execution_count": 1,
   "metadata": {},
   "outputs": [],
   "source": [
    "import numpy as np\n",
    "import matplotlib as mpl\n",
    "import matplotlib.pyplot as plt\n",
    "import matplotlib.lines as mlines\n",
    "import seaborn as sns\n",
    "import pandas as pd\n",
    "import math\n",
    "import scipy"
   ]
  },
  {
   "cell_type": "code",
   "execution_count": 2,
   "metadata": {},
   "outputs": [
    {
     "data": {
      "text/html": [
       "<div>\n",
       "<style scoped>\n",
       "    .dataframe tbody tr th:only-of-type {\n",
       "        vertical-align: middle;\n",
       "    }\n",
       "\n",
       "    .dataframe tbody tr th {\n",
       "        vertical-align: top;\n",
       "    }\n",
       "\n",
       "    .dataframe thead th {\n",
       "        text-align: right;\n",
       "    }\n",
       "</style>\n",
       "<table border=\"1\" class=\"dataframe\">\n",
       "  <thead>\n",
       "    <tr style=\"text-align: right;\">\n",
       "      <th></th>\n",
       "      <th>x</th>\n",
       "    </tr>\n",
       "  </thead>\n",
       "  <tbody>\n",
       "    <tr>\n",
       "      <th>0</th>\n",
       "      <td>67000</td>\n",
       "    </tr>\n",
       "    <tr>\n",
       "      <th>1</th>\n",
       "      <td>52000</td>\n",
       "    </tr>\n",
       "    <tr>\n",
       "      <th>2</th>\n",
       "      <td>100000</td>\n",
       "    </tr>\n",
       "    <tr>\n",
       "      <th>3</th>\n",
       "      <td>78762</td>\n",
       "    </tr>\n",
       "    <tr>\n",
       "      <th>4</th>\n",
       "      <td>37041</td>\n",
       "    </tr>\n",
       "  </tbody>\n",
       "</table>\n",
       "</div>"
      ],
      "text/plain": [
       "        x\n",
       "0   67000\n",
       "1   52000\n",
       "2  100000\n",
       "3   78762\n",
       "4   37041"
      ]
     },
     "execution_count": 2,
     "metadata": {},
     "output_type": "execute_result"
    }
   ],
   "source": [
    "loans_income = pd.read_csv('data/loans_income.csv')\n",
    "loans_income.head()"
   ]
  },
  {
   "cell_type": "code",
   "execution_count": 3,
   "metadata": {},
   "outputs": [],
   "source": [
    "sample = pd.DataFrame({'samp_data': loans_income.sample(n=1000).x.values,\n",
    "                       'mean_of_5': [loans_income.sample(n=5).x.mean() for _ in range(1000)],\n",
    "                       'mean_of_20': [loans_income.sample(n=20).x.mean() for _ in range(1000)]})"
   ]
  },
  {
   "cell_type": "code",
   "execution_count": 4,
   "metadata": {},
   "outputs": [
    {
     "data": {
      "text/plain": [
       "Text(0, 0.5, 'counts')"
      ]
     },
     "execution_count": 4,
     "metadata": {},
     "output_type": "execute_result"
    },
    {
     "data": {
      "image/png": "[encoded data removed]",
      "text/plain": [
       "<Figure size 360x648 with 3 Axes>"
      ]
     },
     "metadata": {
      "needs_background": "light"
     },
     "output_type": "display_data"
    }
   ],
   "source": [
    "fig, ax = plt.subplots(nrows=3,ncols=1, sharey=True, figsize=(5,9))\n",
    "for i, col in enumerate(sample.columns):\n",
    "    sns.distplot(sample[col], bins=40, kde = False, ax = ax[i])\n",
    "    ax[i].set_xlim(0,200000)\n",
    "\n",
    "plt.subplots_adjust(top=1.2)\n",
    "plt.ylabel('counts')"
   ]
  },
  {
   "cell_type": "code",
   "execution_count": 5,
   "metadata": {},
   "outputs": [],
   "source": [
    "n = 20\n",
    "R = 1000\n",
    "boot_sample = pd.DataFrame({'samp': [loans_income.sample(n, replace=True).x.mean() for _ in range(R)]})"
   ]
  },
  {
   "cell_type": "code",
   "execution_count": 6,
   "metadata": {},
   "outputs": [
    {
     "name": "stdout",
     "output_type": "stream",
     "text": [
      "Meadian: 68727.075\n",
      "Standard Error: 7584.71\n"
     ]
    }
   ],
   "source": [
    "print(\"Meadian: {}\".format(boot_sample.median().values[0]))\n",
    "print(\"Standard Error: {:.2f}\".format(boot_sample.std().values[0]))"
   ]
  },
  {
   "cell_type": "code",
   "execution_count": 7,
   "metadata": {},
   "outputs": [
    {
     "data": {
      "text/plain": [
       "<matplotlib.axes._subplots.AxesSubplot at 0x7f844e095a10>"
      ]
     },
     "execution_count": 7,
     "metadata": {},
     "output_type": "execute_result"
    },
    {
     "data": {
      "image/png": "[encoded data removed]",
      "text/plain": [
       "<Figure size 432x288 with 1 Axes>"
      ]
     },
     "metadata": {
      "needs_background": "light"
     },
     "output_type": "display_data"
    }
   ],
   "source": [
    "sns.distplot(boot_sample['samp'], bins=40, kde=False)"
   ]
  },
  {
   "cell_type": "markdown",
   "metadata": {},
   "source": [
    "### Standard Error = $\\frac{s}{\\sqrt{n}}$"
   ]
  },
  {
   "cell_type": "code",
   "execution_count": 8,
   "metadata": {},
   "outputs": [
    {
     "name": "stdout",
     "output_type": "stream",
     "text": [
      "Standard Error: 7350.41\n"
     ]
    }
   ],
   "source": [
    "standard_error = loans_income.x.std()/math.sqrt(n)\n",
    "print(\"Standard Error: {:.2f}\".format(standard_error))"
   ]
  },
  {
   "cell_type": "code",
   "execution_count": 9,
   "metadata": {},
   "outputs": [],
   "source": [
    "def get_sample_z(sample):\n",
    "    z = (sample - np.mean(sample))/np.std(sample)\n",
    "    df = pd.DataFrame({\"x\": sample, \"y\": z})\n",
    "    return df\n",
    "\n",
    "def newline(p1, p2, ax=None):\n",
    "    if not ax:\n",
    "        ax = plt.gca()\n",
    "    xmin, xmax = ax.get_xbound()\n",
    "\n",
    "    if(p2[0] == p1[0]):\n",
    "        xmin = xmax = p1[0]\n",
    "        ymin, ymax = ax.get_ybound()\n",
    "    else:\n",
    "        ymax = p1[1]+(p2[1]-p1[1])/(p2[0]-p1[0])*(xmax-p1[0])\n",
    "        ymin = p1[1]+(p2[1]-p1[1])/(p2[0]-p1[0])*(xmin-p1[0])\n",
    "\n",
    "    l = mlines.Line2D([xmin,xmax], [ymin,ymax], color='#32696969')\n",
    "    ax.add_line(l)\n",
    "    return l"
   ]
  },
  {
   "cell_type": "code",
   "execution_count": 10,
   "metadata": {},
   "outputs": [],
   "source": [
    "norm_samp = np.random.normal(size=(100))"
   ]
  },
  {
   "cell_type": "code",
   "execution_count": 11,
   "metadata": {},
   "outputs": [],
   "source": [
    "normal_df = get_sample_z(norm_samp)"
   ]
  },
  {
   "cell_type": "code",
   "execution_count": 12,
   "metadata": {},
   "outputs": [
    {
     "data": {
      "text/plain": [
       "<matplotlib.lines.Line2D at 0x7f844df77a50>"
      ]
     },
     "execution_count": 12,
     "metadata": {},
     "output_type": "execute_result"
    },
    {
     "data": {
      "image/png": "[encoded data removed]",
      "text/plain": [
       "<Figure size 432x432 with 1 Axes>"
      ]
     },
     "metadata": {
      "needs_background": "light"
     },
     "output_type": "display_data"
    }
   ],
   "source": [
    "fig = plt.figure(figsize=(6,6))\n",
    "sns.scatterplot(x='x', y='y', data=normal_df)\n",
    "newline([0,0],[1,1])"
   ]
  },
  {
   "cell_type": "code",
   "execution_count": 13,
   "metadata": {},
   "outputs": [],
   "source": [
    "sp500_px = pd.read_csv('data/sp500_data.csv')\n",
    "nflx = sp500_px['NFLX']"
   ]
  },
  {
   "cell_type": "code",
   "execution_count": 14,
   "metadata": {},
   "outputs": [],
   "source": [
    "nflx = nflx[nflx>0].apply(np.log).diff().dropna()"
   ]
  },
  {
   "cell_type": "code",
   "execution_count": 15,
   "metadata": {},
   "outputs": [],
   "source": [
    "nflx_df = get_sample_z(nflx.values)"
   ]
  },
  {
   "cell_type": "code",
   "execution_count": 16,
   "metadata": {},
   "outputs": [
    {
     "data": {
      "text/plain": [
       "<matplotlib.lines.Line2D at 0x7f844dece5d0>"
      ]
     },
     "execution_count": 16,
     "metadata": {},
     "output_type": "execute_result"
    },
    {
     "data": {
      "image/png": "[encoded data removed]",
      "text/plain": [
       "<Figure size 432x288 with 1 Axes>"
      ]
     },
     "metadata": {
      "needs_background": "light"
     },
     "output_type": "display_data"
    }
   ],
   "source": [
    "sns.scatterplot(x='x',y='y', data=nflx_df)\n",
    "newline([0,0],[1,1])"
   ]
  },
  {
   "cell_type": "markdown",
   "metadata": {},
   "source": [
    "# Binomial Distribution\n",
    "\n",
    "$f(n,k,p) = {n \\choose k}p^k(1-p)^{n-k}$"
   ]
  },
  {
   "cell_type": "code",
   "execution_count": 17,
   "metadata": {},
   "outputs": [
    {
     "data": {
      "text/plain": [
       "0.0729"
      ]
     },
     "execution_count": 17,
     "metadata": {},
     "output_type": "execute_result"
    }
   ],
   "source": [
    "scipy.stats.binom.pmf(k=2, n=5, p=0.1)"
   ]
  },
  {
   "cell_type": "code",
   "execution_count": 18,
   "metadata": {},
   "outputs": [
    {
     "data": {
      "text/plain": [
       "0.99144"
      ]
     },
     "execution_count": 18,
     "metadata": {},
     "output_type": "execute_result"
    }
   ],
   "source": [
    "scipy.stats.binom.cdf(k=2, n=5, p=0.1)"
   ]
  },
  {
   "cell_type": "markdown",
   "metadata": {},
   "source": [
    "# Poisson Distribution"
   ]
  },
  {
   "cell_type": "code",
   "execution_count": 19,
   "metadata": {},
   "outputs": [
    {
     "data": {
      "text/plain": [
       "array([2, 2, 1, 3, 1, 3, 1, 4, 4, 0, 2, 1, 3, 5, 2, 3, 1, 2, 0, 2, 1, 0,\n",
       "       1, 0, 2, 1, 2, 0, 1, 2, 5, 3, 2, 0, 1, 2, 2, 3, 3, 2, 1, 3, 3, 3,\n",
       "       0, 2, 1, 3, 2, 0, 2, 2, 1, 4, 0, 3, 1, 4, 2, 2, 3, 1, 3, 0, 5, 5,\n",
       "       2, 1, 2, 2, 2, 0, 2, 0, 2, 6, 2, 4, 1, 1, 2, 2, 1, 2, 2, 3, 2, 4,\n",
       "       1, 4, 2, 1, 2, 3, 5, 0, 1, 3, 3, 1])"
      ]
     },
     "execution_count": 19,
     "metadata": {},
     "output_type": "execute_result"
    }
   ],
   "source": [
    "scipy.stats.poisson.rvs(mu=2, size=100)"
   ]
  },
  {
   "cell_type": "markdown",
   "metadata": {},
   "source": [
    "# Exponential Distribution\n",
    "**scipy**: $f(x) = e^{-\\frac{x}{scale}}$\n",
    "\n",
    "**rexp**: $f(x) = \\lambda e^{-\\lambda x}$\n",
    "\n",
    "Hence $scale = \\frac{1}{\\lambda}$ and we divide scipy result by $scale$"
   ]
  },
  {
   "cell_type": "code",
   "execution_count": 20,
   "metadata": {},
   "outputs": [
    {
     "data": {
      "text/plain": [
       "array([1.07849637, 0.88335134, 0.75873136, 2.04441843, 0.43860944,\n",
       "       0.21192195, 0.74688747, 0.17286096, 1.8335849 , 1.80113981,\n",
       "       0.38200202, 0.72090215, 1.40806137, 0.44235789, 0.98194839,\n",
       "       0.41265038, 2.34527749, 5.88959418, 0.10572681, 0.16663931,\n",
       "       0.17567565, 1.21511555, 0.27727443, 1.42235217, 1.0479759 ,\n",
       "       1.69349229, 3.36918148, 5.56062328, 0.69461187, 0.8399735 ,\n",
       "       1.54049333, 1.71958234, 1.00204921, 0.58363193, 1.21311578,\n",
       "       0.16096269, 1.5636601 , 0.12595683, 2.49418726, 1.71543716,\n",
       "       0.24810703, 0.95685422, 0.67805369, 3.7638229 , 0.3223841 ,\n",
       "       0.94686793, 0.98470575, 0.71789823, 0.78804369, 2.03807234,\n",
       "       1.2485497 , 1.17907587, 0.35676658, 0.8433599 , 2.51781578,\n",
       "       0.71741153, 0.29667538, 0.5255446 , 0.48993248, 1.10290904,\n",
       "       0.09206996, 0.11945141, 0.77877538, 0.34129082, 0.22849241,\n",
       "       3.29771231, 0.28276289, 1.13786225, 1.99090279, 2.6380408 ,\n",
       "       0.11686729, 1.72431704, 0.26608291, 2.11446209, 0.37163372,\n",
       "       1.47707051, 0.55725956, 1.08891531, 0.15394132, 1.30108435,\n",
       "       0.88855675, 5.24753799, 0.60372576, 0.14864858, 0.15020412,\n",
       "       0.80648683, 0.61700665, 0.1688445 , 0.79988646, 0.062783  ,\n",
       "       0.45035279, 0.59385237, 0.07721522, 0.66220525, 0.41584991,\n",
       "       3.84996653, 0.13302664, 3.10273518, 0.7978167 , 0.06166895])"
      ]
     },
     "execution_count": 20,
     "metadata": {},
     "output_type": "execute_result"
    }
   ],
   "source": [
    "sc = 1/0.2\n",
    "scipy.stats.expon.rvs(size=100, scale=sc)/sc"
   ]
  },
  {
   "cell_type": "markdown",
   "metadata": {},
   "source": [
    "# Weibull Distribution\n",
    "$f(x,c,\\lambda) = \\frac{c}{\\lambda}(\\frac{x}{\\lambda})^{c-1}e^{\\frac{x}{\\lambda}^c}$\n",
    "\n",
    "$\\lambda = scale$"
   ]
  },
  {
   "cell_type": "code",
   "execution_count": 21,
   "metadata": {},
   "outputs": [
    {
     "data": {
      "text/plain": [
       "array([ 4038.68748611,  6562.86709335, 12349.07675869,  2700.2994682 ,\n",
       "        7672.96342081,  7242.05175442,  2882.29064153,  5106.41375422,\n",
       "         749.73415418,  3005.93093526,  4503.33562783,  6306.38632072,\n",
       "        4516.64089583, 17284.88719893,   644.46425289,  1770.64682446,\n",
       "        5013.60118229,  6507.26796176,  3247.9258989 ,  2538.51783344,\n",
       "        6710.48561875,  2087.30065299,   368.74237183,  5673.41396018,\n",
       "        4292.41064051,  4424.5133406 ,  4361.48788559,  2689.29809495,\n",
       "        4136.62856298,  4389.50963053,  2238.19456113,  5963.96152593,\n",
       "        2390.53804377,  4435.22091268,   303.84652812,  3132.90024951,\n",
       "        9714.56660691,  3938.83976911,  3300.87998235,  9971.47655974,\n",
       "        3601.26087667,  7435.24205561,  2948.76211311,   499.10941306,\n",
       "        2762.81379283,  4573.37293954,  2675.96363417,  4916.54200164,\n",
       "        1229.06298359,  3136.60628149, 10419.54185993,  2757.63354997,\n",
       "        1681.17258673,  7260.56532389, 15439.05946945,  3936.72372644,\n",
       "        1732.07629563,  4794.46755865,  1175.86574576,  5587.97723571,\n",
       "        7035.82246815, 10420.65431918,   714.00916386,  3978.2135091 ,\n",
       "        2988.44996945,  1497.24295995,  3034.74081912,  2928.4744565 ,\n",
       "        4347.75060059,  8206.28209787,  4139.4808396 ,  1346.63975882,\n",
       "        1218.21410877,  1391.3048552 , 10136.05561455,  1013.7370229 ,\n",
       "        3188.21120959,  4316.39511397,  4051.43136477,  2066.09571193,\n",
       "        5028.59827899,  2997.99617302,  2565.27921488,  7902.10153872,\n",
       "        7223.58633727,  7320.96739845,  7866.18276072,  5505.30559063,\n",
       "        4587.74560081,  8423.87986963,  3465.53218036,  3512.55615961,\n",
       "        7592.20373091,  5842.77167214,  1659.85351174,  5914.71876306,\n",
       "        4517.61789306,  8382.60207711,  7955.70707343,  6292.83440778])"
      ]
     },
     "execution_count": 21,
     "metadata": {},
     "output_type": "execute_result"
    }
   ],
   "source": [
    "scipy.stats.weibull_min.rvs(size=100,c=1.5, scale=5000)"
   ]
  },
  {
   "cell_type": "code",
   "execution_count": null,
   "metadata": {},
   "outputs": [],
   "source": []
  }
 ],
 "metadata": {
  "kernelspec": {
   "display_name": "Python 3",
   "language": "python",
   "name": "python3"
  },
  "language_info": {
   "codemirror_mode": {
    "name": "ipython",
    "version": 3
   },
   "file_extension": ".py",
   "mimetype": "text/x-python",
   "name": "python",
   "nbconvert_exporter": "python",
   "pygments_lexer": "ipython3",
   "version": "3.7.6"
  }
 },
 "nbformat": 4,
 "nbformat_minor": 4
}
