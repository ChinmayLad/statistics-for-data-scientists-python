{
 "cells": [
  {
   "cell_type": "code",
   "execution_count": 1,
   "metadata": {},
   "outputs": [],
   "source": [
    "import numpy as np\n",
    "import matplotlib as mpl\n",
    "import matplotlib.pyplot as plt\n",
    "import matplotlib.lines as mlines\n",
    "import seaborn as sns\n",
    "import pandas as pd\n",
    "import math\n",
    "import scipy"
   ]
  },
  {
   "cell_type": "code",
   "execution_count": 2,
   "metadata": {},
   "outputs": [
    {
     "data": {
      "text/html": [
       "<div>\n",
       "<style scoped>\n",
       "    .dataframe tbody tr th:only-of-type {\n",
       "        vertical-align: middle;\n",
       "    }\n",
       "\n",
       "    .dataframe tbody tr th {\n",
       "        vertical-align: top;\n",
       "    }\n",
       "\n",
       "    .dataframe thead th {\n",
       "        text-align: right;\n",
       "    }\n",
       "</style>\n",
       "<table border=\"1\" class=\"dataframe\">\n",
       "  <thead>\n",
       "    <tr style=\"text-align: right;\">\n",
       "      <th></th>\n",
       "      <th>x</th>\n",
       "    </tr>\n",
       "  </thead>\n",
       "  <tbody>\n",
       "    <tr>\n",
       "      <th>0</th>\n",
       "      <td>67000</td>\n",
       "    </tr>\n",
       "    <tr>\n",
       "      <th>1</th>\n",
       "      <td>52000</td>\n",
       "    </tr>\n",
       "    <tr>\n",
       "      <th>2</th>\n",
       "      <td>100000</td>\n",
       "    </tr>\n",
       "    <tr>\n",
       "      <th>3</th>\n",
       "      <td>78762</td>\n",
       "    </tr>\n",
       "    <tr>\n",
       "      <th>4</th>\n",
       "      <td>37041</td>\n",
       "    </tr>\n",
       "  </tbody>\n",
       "</table>\n",
       "</div>"
      ],
      "text/plain": [
       "        x\n",
       "0   67000\n",
       "1   52000\n",
       "2  100000\n",
       "3   78762\n",
       "4   37041"
      ]
     },
     "execution_count": 2,
     "metadata": {},
     "output_type": "execute_result"
    }
   ],
   "source": [
    "loans_income = pd.read_csv('data/loans_income.csv')\n",
    "loans_income.head()"
   ]
  },
  {
   "cell_type": "code",
   "execution_count": 3,
   "metadata": {},
   "outputs": [],
   "source": [
    "sample = pd.DataFrame({'samp_data': loans_income.sample(n=1000).x.values,\n",
    "                       'mean_of_5': [loans_income.sample(n=5).x.mean() for _ in range(1000)],\n",
    "                       'mean_of_20': [loans_income.sample(n=20).x.mean() for _ in range(1000)]})"
   ]
  },
  {
   "cell_type": "code",
   "execution_count": 4,
   "metadata": {},
   "outputs": [
    {
     "data": {
      "text/plain": [
       "Text(0, 0.5, 'counts')"
      ]
     },
     "execution_count": 4,
     "metadata": {},
     "output_type": "execute_result"
    },
    {
     "data": {
      "image/png": "[encoded data removed]",
      "text/plain": [
       "<Figure size 360x648 with 3 Axes>"
      ]
     },
     "metadata": {
      "needs_background": "light"
     },
     "output_type": "display_data"
    }
   ],
   "source": [
    "fig, ax = plt.subplots(nrows=3,ncols=1, sharey=True, figsize=(5,9))\n",
    "for i, col in enumerate(sample.columns):\n",
    "    sns.distplot(sample[col], bins=40, kde = False, ax = ax[i])\n",
    "    ax[i].set_xlim(0,200000)\n",
    "\n",
    "plt.subplots_adjust(top=1.2)\n",
    "plt.ylabel('counts')"
   ]
  },
  {
   "cell_type": "code",
   "execution_count": 5,
   "metadata": {},
   "outputs": [],
   "source": [
    "n = 20\n",
    "R = 1000\n",
    "boot_sample = pd.DataFrame({'samp': [loans_income.sample(n, replace=True).x.mean() for _ in range(R)]})"
   ]
  },
  {
   "cell_type": "code",
   "execution_count": 6,
   "metadata": {},
   "outputs": [
    {
     "name": "stdout",
     "output_type": "stream",
     "text": [
      "Meadian: 68612.725\n",
      "Standard Error: 7467.99\n"
     ]
    }
   ],
   "source": [
    "print(\"Meadian: {}\".format(boot_sample.median().values[0]))\n",
    "print(\"Standard Error: {:.2f}\".format(boot_sample.std().values[0]))"
   ]
  },
  {
   "cell_type": "code",
   "execution_count": 7,
   "metadata": {},
   "outputs": [
    {
     "data": {
      "text/plain": [
       "<matplotlib.axes._subplots.AxesSubplot at 0x7f851bd53390>"
      ]
     },
     "execution_count": 7,
     "metadata": {},
     "output_type": "execute_result"
    },
    {
     "data": {
      "image/png": "[encoded data removed]",
      "text/plain": [
       "<Figure size 432x288 with 1 Axes>"
      ]
     },
     "metadata": {
      "needs_background": "light"
     },
     "output_type": "display_data"
    }
   ],
   "source": [
    "sns.distplot(boot_sample['samp'], bins=40, kde=False)"
   ]
  },
  {
   "cell_type": "markdown",
   "metadata": {},
   "source": [
    "### Standard Error = $\\frac{s}{\\sqrt{n}}$"
   ]
  },
  {
   "cell_type": "code",
   "execution_count": 8,
   "metadata": {},
   "outputs": [
    {
     "name": "stdout",
     "output_type": "stream",
     "text": [
      "Standard Error: 7350.41\n"
     ]
    }
   ],
   "source": [
    "standard_error = loans_income.x.std()/math.sqrt(n)\n",
    "print(\"Standard Error: {:.2f}\".format(standard_error))"
   ]
  },
  {
   "cell_type": "code",
   "execution_count": 9,
   "metadata": {},
   "outputs": [],
   "source": [
    "def get_sample_z(sample):\n",
    "    z = (sample - np.mean(sample))/np.std(sample)\n",
    "    df = pd.DataFrame({\"x\": sample, \"y\": z})\n",
    "    return df\n",
    "\n",
    "def newline(p1, p2, ax=None):\n",
    "    if not ax:\n",
    "        ax = plt.gca()\n",
    "    xmin, xmax = ax.get_xbound()\n",
    "\n",
    "    if(p2[0] == p1[0]):\n",
    "        xmin = xmax = p1[0]\n",
    "        ymin, ymax = ax.get_ybound()\n",
    "    else:\n",
    "        ymax = p1[1]+(p2[1]-p1[1])/(p2[0]-p1[0])*(xmax-p1[0])\n",
    "        ymin = p1[1]+(p2[1]-p1[1])/(p2[0]-p1[0])*(xmin-p1[0])\n",
    "\n",
    "    l = mlines.Line2D([xmin,xmax], [ymin,ymax], color='#32696969')\n",
    "    ax.add_line(l)\n",
    "    return l"
   ]
  },
  {
   "cell_type": "code",
   "execution_count": 10,
   "metadata": {},
   "outputs": [],
   "source": [
    "norm_samp = np.random.normal(size=(100))"
   ]
  },
  {
   "cell_type": "code",
   "execution_count": 11,
   "metadata": {},
   "outputs": [],
   "source": [
    "normal_df = get_sample_z(norm_samp)"
   ]
  },
  {
   "cell_type": "code",
   "execution_count": 12,
   "metadata": {},
   "outputs": [
    {
     "data": {
      "text/plain": [
       "<matplotlib.lines.Line2D at 0x7f851bc66910>"
      ]
     },
     "execution_count": 12,
     "metadata": {},
     "output_type": "execute_result"
    },
    {
     "data": {
      "image/png": "[encoded data removed]",
      "text/plain": [
       "<Figure size 432x432 with 1 Axes>"
      ]
     },
     "metadata": {
      "needs_background": "light"
     },
     "output_type": "display_data"
    }
   ],
   "source": [
    "fig = plt.figure(figsize=(6,6))\n",
    "sns.scatterplot(x='x', y='y', data=normal_df)\n",
    "newline([0,0],[1,1])"
   ]
  },
  {
   "cell_type": "code",
   "execution_count": 13,
   "metadata": {},
   "outputs": [],
   "source": [
    "sp500_px = pd.read_csv('data/sp500_data.csv')\n",
    "nflx = sp500_px['NFLX']"
   ]
  },
  {
   "cell_type": "code",
   "execution_count": 14,
   "metadata": {},
   "outputs": [],
   "source": [
    "nflx = nflx[nflx>0].apply(np.log).diff().dropna()"
   ]
  },
  {
   "cell_type": "code",
   "execution_count": 15,
   "metadata": {},
   "outputs": [],
   "source": [
    "nflx_df = get_sample_z(nflx.values)"
   ]
  },
  {
   "cell_type": "code",
   "execution_count": 16,
   "metadata": {},
   "outputs": [
    {
     "data": {
      "text/plain": [
       "<matplotlib.lines.Line2D at 0x7f851bb50d10>"
      ]
     },
     "execution_count": 16,
     "metadata": {},
     "output_type": "execute_result"
    },
    {
     "data": {
      "image/png": "[encoded data removed]",
      "text/plain": [
       "<Figure size 432x288 with 1 Axes>"
      ]
     },
     "metadata": {
      "needs_background": "light"
     },
     "output_type": "display_data"
    }
   ],
   "source": [
    "sns.scatterplot(x='x',y='y', data=nflx_df)\n",
    "newline([0,0],[1,1])"
   ]
  },
  {
   "cell_type": "markdown",
   "metadata": {},
   "source": [
    "# Binomial Distribution\n",
    "\n",
    "$f(n,k,p) = {n \\choose k}p^k(1-p)^{n-k}$"
   ]
  },
  {
   "cell_type": "code",
   "execution_count": 17,
   "metadata": {},
   "outputs": [
    {
     "data": {
      "text/plain": [
       "0.0729"
      ]
     },
     "execution_count": 17,
     "metadata": {},
     "output_type": "execute_result"
    }
   ],
   "source": [
    "scipy.stats.binom.pmf(k=2, n=5, p=0.1)"
   ]
  },
  {
   "cell_type": "code",
   "execution_count": 18,
   "metadata": {},
   "outputs": [
    {
     "data": {
      "text/plain": [
       "0.99144"
      ]
     },
     "execution_count": 18,
     "metadata": {},
     "output_type": "execute_result"
    }
   ],
   "source": [
    "scipy.stats.binom.cdf(k=2, n=5, p=0.1)"
   ]
  },
  {
   "cell_type": "markdown",
   "metadata": {},
   "source": [
    "# Poisson Distribution"
   ]
  },
  {
   "cell_type": "code",
   "execution_count": 19,
   "metadata": {},
   "outputs": [
    {
     "data": {
      "text/plain": [
       "array([6, 2, 3, 1, 3, 3, 1, 1, 1, 1, 3, 2, 3, 1, 0, 3, 5, 0, 3, 1, 4, 2,\n",
       "       1, 2, 3, 1, 2, 2, 2, 1, 2, 3, 0, 1, 2, 0, 0, 1, 2, 5, 3, 2, 3, 3,\n",
       "       2, 0, 1, 6, 2, 1, 0, 0, 2, 2, 0, 0, 3, 1, 2, 5, 4, 4, 5, 1, 4, 4,\n",
       "       4, 1, 3, 0, 4, 3, 2, 5, 2, 1, 0, 0, 2, 3, 4, 6, 2, 2, 1, 0, 0, 2,\n",
       "       3, 3, 5, 2, 1, 2, 3, 1, 2, 1, 0, 1])"
      ]
     },
     "execution_count": 19,
     "metadata": {},
     "output_type": "execute_result"
    }
   ],
   "source": [
    "p = scipy.stats.poisson.rvs(mu=2, size=100)\n",
    "p"
   ]
  },
  {
   "cell_type": "code",
   "execution_count": 20,
   "metadata": {},
   "outputs": [
    {
     "data": {
      "text/plain": [
       "<matplotlib.axes._subplots.AxesSubplot at 0x7f851bae2510>"
      ]
     },
     "execution_count": 20,
     "metadata": {},
     "output_type": "execute_result"
    },
    {
     "data": {
      "image/png": "[encoded data removed]",
      "text/plain": [
       "<Figure size 432x288 with 1 Axes>"
      ]
     },
     "metadata": {
      "needs_background": "light"
     },
     "output_type": "display_data"
    }
   ],
   "source": [
    "sns.distplot(p)"
   ]
  },
  {
   "cell_type": "markdown",
   "metadata": {},
   "source": [
    "# Exponential Distribution\n",
    "**scipy**: $f(x) = e^{-\\frac{x}{scale}}$\n",
    "\n",
    "**rexp**: $f(x) = \\lambda e^{-\\lambda x}$\n",
    "\n",
    "Hence $scale = \\frac{1}{\\lambda}$ and we divide scipy result by $scale$"
   ]
  },
  {
   "cell_type": "code",
   "execution_count": 21,
   "metadata": {},
   "outputs": [
    {
     "data": {
      "text/plain": [
       "array([1.31369767, 2.58084959, 0.68847434, 3.7506923 , 2.77925389,\n",
       "       0.18431454, 1.36527942, 0.19992532, 1.84985956, 1.07275495,\n",
       "       1.08388997, 0.38016984, 1.22492761, 0.67369204, 0.28373024,\n",
       "       0.07275234, 0.7015021 , 2.69347532, 0.27815546, 0.75165696,\n",
       "       0.47328535, 0.60370433, 1.2233298 , 0.27535645, 0.31101529,\n",
       "       0.27210844, 0.10521468, 0.087119  , 1.51793577, 0.85781687,\n",
       "       0.4545887 , 1.32363855, 0.04344649, 2.0764388 , 0.1306994 ,\n",
       "       0.2926386 , 0.34525529, 2.32783193, 0.06243922, 0.3533696 ,\n",
       "       1.35005342, 0.43625653, 0.04926499, 0.24157675, 3.13240252,\n",
       "       0.00788493, 1.47806405, 0.56753788, 0.39834014, 2.12451742,\n",
       "       0.15071791, 0.20075552, 2.29621196, 0.6583605 , 1.95584231,\n",
       "       3.47722766, 0.61287082, 0.5123028 , 0.72788751, 0.46243844,\n",
       "       1.21389222, 0.39017736, 0.21285942, 2.02381648, 0.55528794,\n",
       "       1.58320517, 0.45190374, 0.70919675, 0.29774062, 1.38583629,\n",
       "       0.32720083, 0.08163084, 0.26231761, 0.14199828, 0.42536482,\n",
       "       0.99529061, 0.2594086 , 0.49899286, 2.07134894, 1.15135983,\n",
       "       1.98280735, 0.48165281, 0.4653307 , 0.9808584 , 0.74312651,\n",
       "       1.24281789, 0.65108667, 1.58640777, 1.01377439, 1.79184386,\n",
       "       0.36572195, 0.05028927, 0.61762928, 1.51413373, 0.38458767,\n",
       "       0.66057647, 0.57906323, 1.61569219, 0.76408356, 0.99930085])"
      ]
     },
     "execution_count": 21,
     "metadata": {},
     "output_type": "execute_result"
    }
   ],
   "source": [
    "sc = 1/0.2\n",
    "e = scipy.stats.expon.rvs(size=100, scale=sc)/sc\n",
    "e"
   ]
  },
  {
   "cell_type": "code",
   "execution_count": 22,
   "metadata": {},
   "outputs": [
    {
     "data": {
      "text/plain": [
       "<matplotlib.axes._subplots.AxesSubplot at 0x7f851ba54650>"
      ]
     },
     "execution_count": 22,
     "metadata": {},
     "output_type": "execute_result"
    },
    {
     "data": {
      "image/png": "[encoded data removed]",
      "text/plain": [
       "<Figure size 432x288 with 1 Axes>"
      ]
     },
     "metadata": {
      "needs_background": "light"
     },
     "output_type": "display_data"
    }
   ],
   "source": [
    "sns.distplot(e)"
   ]
  },
  {
   "cell_type": "markdown",
   "metadata": {},
   "source": [
    "# Weibull Distribution\n",
    "$f(x,c,\\lambda) = \\frac{c}{\\lambda}(\\frac{x}{\\lambda})^{c-1}e^{\\frac{x}{\\lambda}^c}$\n",
    "\n",
    "$\\lambda = scale$"
   ]
  },
  {
   "cell_type": "code",
   "execution_count": 23,
   "metadata": {},
   "outputs": [
    {
     "data": {
      "text/plain": [
       "array([ 6480.66458098,  4803.45863713,  3043.0773361 ,  6327.12972677,\n",
       "        1136.30476012,  4397.40213191,  1646.83826878,  8015.25929323,\n",
       "        3124.01409613,   910.96907008,  6550.07867758,  2609.81739047,\n",
       "        7077.58595581,  2005.30948958,  1702.14229261,  9575.83828989,\n",
       "        3397.27267079,  1455.82964761,  1084.50310214,   606.90943746,\n",
       "        4885.18967796,  1855.85613507,  6137.08819611,   773.54895008,\n",
       "         667.686785  ,  3663.2363557 ,  8319.40068268,  7122.00580181,\n",
       "        2215.29313203,  9795.94525483,  4653.87125165, 10081.87651978,\n",
       "        6051.91673178, 12492.26520462,  7699.548797  , 12542.0264523 ,\n",
       "        3499.64327818,  7571.57968239,  5031.5147974 ,   997.94270587,\n",
       "        4041.46903357,  3104.70787812,  6163.10953973,  4761.83686323,\n",
       "        4768.05323986,  3984.73965531,  2302.10702024,  1899.02701372,\n",
       "        3996.44742322,  3956.51131784,  2318.5605828 ,  2414.63418334,\n",
       "        3952.52139868,  6044.75720927,  6292.43167193,  7210.44640251,\n",
       "        6061.91723507,  3994.5108016 ,  5532.77841278,  6452.36243124,\n",
       "        9849.38091057,  3411.09878345,  6218.95502924,  7969.62944731,\n",
       "        1821.78557804,  3201.02101578, 10063.33419601,  1273.08127253,\n",
       "        9758.3575129 ,  1553.06174542,  5749.55151598,  2044.0226249 ,\n",
       "        6500.2326545 ,  7140.51288755,  1874.79430612,  7310.59717917,\n",
       "        8534.15455136,  2559.01479266,  1098.78347133,  3725.35464924,\n",
       "        5956.14194361,  3436.21601062,  4394.36637155,  4633.32675525,\n",
       "        7511.93557394,   473.16113806,  7176.79986659,  6571.61828194,\n",
       "        1719.03519957,  6893.9087892 ,  4736.5703037 ,  6127.74598583,\n",
       "        5621.10796807,  9894.17852513,   750.77191426,  1031.56613049,\n",
       "       10517.14224369,  2327.08779317, 10257.660794  ,  8406.36142587])"
      ]
     },
     "execution_count": 23,
     "metadata": {},
     "output_type": "execute_result"
    }
   ],
   "source": [
    "w = scipy.stats.weibull_min.rvs(size=100,c=1.5, scale=5000)\n",
    "w"
   ]
  },
  {
   "cell_type": "code",
   "execution_count": 24,
   "metadata": {},
   "outputs": [
    {
     "data": {
      "text/plain": [
       "<matplotlib.axes._subplots.AxesSubplot at 0x7f851bc45250>"
      ]
     },
     "execution_count": 24,
     "metadata": {},
     "output_type": "execute_result"
    },
    {
     "data": {
      "image/png": "[encoded data removed]",
      "text/plain": [
       "<Figure size 432x288 with 1 Axes>"
      ]
     },
     "metadata": {
      "needs_background": "light"
     },
     "output_type": "display_data"
    }
   ],
   "source": [
    "sns.distplot(w)"
   ]
  },
  {
   "cell_type": "code",
   "execution_count": null,
   "metadata": {},
   "outputs": [],
   "source": []
  }
 ],
 "metadata": {
  "kernelspec": {
   "display_name": "Python 3",
   "language": "python",
   "name": "python3"
  },
  "language_info": {
   "codemirror_mode": {
    "name": "ipython",
    "version": 3
   },
   "file_extension": ".py",
   "mimetype": "text/x-python",
   "name": "python",
   "nbconvert_exporter": "python",
   "pygments_lexer": "ipython3",
   "version": "3.7.6"
  }
 },
 "nbformat": 4,
 "nbformat_minor": 4
}
